{
 "cells": [
  {
   "cell_type": "code",
   "execution_count": 1,
   "metadata": {},
   "outputs": [
    {
     "name": "stdout",
     "output_type": "stream",
     "text": [
      "x =  2.976941569907863 f(x) =  0.000531691198313311\n"
     ]
    },
    {
     "data": {
      "text/plain": [
       "<matplotlib.collections.PathCollection at 0x2219b07be80>"
      ]
     },
     "execution_count": 1,
     "metadata": {},
     "output_type": "execute_result"
    },
    {
     "data": {
      "image/png": "[encoded data removed]",
      "text/plain": [
       "<Figure size 864x432 with 1 Axes>"
      ]
     },
     "metadata": {
      "needs_background": "light"
     },
     "output_type": "display_data"
    }
   ],
   "source": [
    "import numpy as np\n",
    "import matplotlib.pyplot as plt\n",
    "\n",
    "def f(x):\n",
    "    w = np.array([1, -1, -12, 15, 5])\n",
    "    M = np.sum([x**i*w[M-i] for i in range(0, ) ]) -1\n",
    "    return x**2 - 6*x + 9\n",
    "def g(x):\n",
    "    return 2*x -6\n",
    "alpha = 0.1\n",
    "x = 1\n",
    "x_hist = np.array(x)\n",
    "fx_hist = np.array(f(x))\n",
    "\n",
    "for i in range(20):\n",
    "    x = x - alpha* g(x)\n",
    "    x_hist = np.append(x_hist , x)\n",
    "    fx_hist = np.append(fx_hist , f(x))\n",
    "\n",
    "print('x = ', x, 'f(x) = ',f(x) )\n",
    "fig = plt.figure(figsize=(12,6))\n",
    "ax = plt.subplot(1,1,1)\n",
    "delta =0.1\n",
    "x_ = np.arange(-4, 4+delta, delta)\n",
    "ax.plot(x_, f(x_))\n",
    "ax.scatter(x_hist, fx_hist, c='r')\n",
    "\n"
   ]
  },
  {
   "cell_type": "code",
   "execution_count": 2,
   "metadata": {},
   "outputs": [
    {
     "name": "stdout",
     "output_type": "stream",
     "text": [
      "[3.]\n"
     ]
    }
   ],
   "source": [
    "#finding a root close to x0\n",
    "from scipy.optimize import fsolve\n",
    "from scipy.optimize import minimize\n",
    "x0 = 0.7\n",
    "root = fsolve(g ,x0)\n",
    "print(root)"
   ]
  },
  {
   "cell_type": "code",
   "execution_count": 3,
   "metadata": {},
   "outputs": [
    {
     "name": "stdout",
     "output_type": "stream",
     "text": [
      " x_train =>  (50000, 32, 32, 3)\n"
     ]
    }
   ],
   "source": [
    "import numpy as np\n",
    "import tensorflow as tf\n",
    "from tensorflow import keras\n",
    "import matplotlib . pyplot as plt\n",
    "from tensorflow.keras.datasets import cifar10 , mnist\n",
    "( x_train , y_train ) , ( x_test , y_test ) = cifar10 . load_data ( )\n",
    "# ( x_train , y_train ) , ( x_test , y_test ) = mnist . load_data ( )\n",
    "print ( \" x_train => \" , x_train . shape )\n",
    "Ntr = x_train . shape [ 0 ]\n",
    "Nte = x_test . shape [ 0 ]\n",
    "Din = 3072 # CIFAR10\n",
    "# Din = 784 # MINIST\n",
    "x_train = x_train [ range ( Ntr ) , : ]\n",
    "x_test = x_test [ range ( Nte ) , : ]\n",
    "y_train = y_train [ range ( Ntr ) ]\n",
    "y_test = y_test [ range ( Nte ) ]\n",
    "\n",
    "K = len(np.unique(y_train))\n",
    "y_train = tf.keras.utils.to_categorical(y_train,num_classes=K)\n",
    "y_test = tf.keras.utils.to_categorical(y_test,num_classes=K)\n",
    "x_train = np.reshape(x_train,(Ntr,Din))\n",
    "x_test = np.reshape(x_test,(Nte,Din))\n",
    "x_train = x_train.astype(np.float32)\n",
    "x_test = x_test.astype(np.float32)\n",
    "x_train/= 255.\n",
    "x_test/= 255.\n"
   ]
  },
  {
   "cell_type": "code",
   "execution_count": 4,
   "metadata": {},
   "outputs": [],
   "source": [
    "# Utility function for diaplaying\n",
    "def display(y_train, y_test, y_train_pred, y_test_pred, loss_history, w, showim = True):\n",
    "    plt.plot(loss_history)\n",
    "\n",
    "\n",
    "     # For diapaying the weights matrix w as an image. 32*32*3 assumption is there\n",
    "    if showim:\n",
    "        f, axarr = plt.subplots(2, 5)\n",
    "        f.set_size_inches(16, 6)        \n",
    "        for i in range(10):\n",
    "            img = w[:, i].reshape(32, 32, 3)# CIFAR10\n",
    "            # img = w1[:, i].reshape(28, 28)# MNIST    \n",
    "            img = (img - np.amin(img))/(np.amax(img) - np.amin(img))\n",
    "            axarr[i//5, i%5].imshow(img)\n",
    "        plt.show()\n",
    "\n",
    "    train_acc = np.mean(np.abs(np.argmax(y_train, axis=1) == np.argmax(y_train_pred, axis=1)))\n",
    "    print(\"train_acc = \", train_acc)\n",
    "\n",
    "    test_acc = np.mean(np.abs(np.argmax(y_test, axis=1) == np.argmax(y_test_pred, axis=1)))\n",
    "    print(\"test_acc = \", test_acc)\n"
   ]
  },
  {
   "cell_type": "code",
   "execution_count": 7,
   "metadata": {},
   "outputs": [
    {
     "ename": "NameError",
     "evalue": "name 'dy_pred' is not defined",
     "output_type": "error",
     "traceback": [
      "\u001b[1;31m---------------------------------------------------------------------------\u001b[0m",
      "\u001b[1;31mNameError\u001b[0m                                 Traceback (most recent call last)",
      "\u001b[1;32mc:\\Users\\ASUS\\Documents\\Coding-SEM4\\EN2550-Codings\\Week 10\\ex10.ipynb Cell 5'\u001b[0m in \u001b[0;36m<cell line: 11>\u001b[1;34m()\u001b[0m\n\u001b[0;32m     <a href='vscode-notebook-cell:/c%3A/Users/ASUS/Documents/Coding-SEM4/EN2550-Codings/Week%2010/ex10.ipynb#ch0000004?line=21'>22</a>\u001b[0m loss_history\u001b[39m.\u001b[39mappend(loss)\n\u001b[0;32m     <a href='vscode-notebook-cell:/c%3A/Users/ASUS/Documents/Coding-SEM4/EN2550-Codings/Week%2010/ex10.ipynb#ch0000004?line=23'>24</a>\u001b[0m \u001b[39m#backward pass\u001b[39;00m\n\u001b[1;32m---> <a href='vscode-notebook-cell:/c%3A/Users/ASUS/Documents/Coding-SEM4/EN2550-Codings/Week%2010/ex10.ipynb#ch0000004?line=24'>25</a>\u001b[0m db \u001b[39m=\u001b[39m dy_pred\u001b[39m.\u001b[39msum(axis \u001b[39m=\u001b[39m\u001b[39m0\u001b[39m)\u001b[39m*\u001b[39m\u001b[39m1\u001b[39m\n\u001b[0;32m     <a href='vscode-notebook-cell:/c%3A/Users/ASUS/Documents/Coding-SEM4/EN2550-Codings/Week%2010/ex10.ipynb#ch0000004?line=25'>26</a>\u001b[0m dy_pred \u001b[39m=\u001b[39m \u001b[39m1.\u001b[39m\u001b[39m/\u001b[39mbatch_size \u001b[39m*\u001b[39m \u001b[39m2.0\u001b[39m \u001b[39m*\u001b[39m (y_pred \u001b[39m-\u001b[39m y)\n\u001b[0;32m     <a href='vscode-notebook-cell:/c%3A/Users/ASUS/Documents/Coding-SEM4/EN2550-Codings/Week%2010/ex10.ipynb#ch0000004?line=26'>27</a>\u001b[0m dw \u001b[39m=\u001b[39m x\u001b[39m.\u001b[39mT \u001b[39m@\u001b[39m dy_pred\n",
      "\u001b[1;31mNameError\u001b[0m: name 'dy_pred' is not defined"
     ]
    }
   ],
   "source": [
    "std =1e-5\n",
    "w = std*np.random.randn(Din,K)\n",
    "b = np.zeros(K)\n",
    "learning_rate = 1e-3\n",
    "lr_decay = 0.1\n",
    "epochs = 5\n",
    "batch_size =100\n",
    "loss_history =[]\n",
    "rng = np.random.default_rng(seed =0)\n",
    "\n",
    "for e in range(epochs):\n",
    "    indices = np.arange(Ntr)\n",
    "    rng.shuffle(indices)\n",
    "    for batch in range(Ntr//batch_size):\n",
    "        batch_indices = indices[batch*batch_size: (batch+1)*batch_size]\n",
    "        x = x_train[batch_indices]\n",
    "        y = y_train[batch_indices]\n",
    "\n",
    "        #forward pass\n",
    "        y_pred = x@w + b\n",
    "        loss = 1./batch_size * np.square(y_pred - y).sum()\n",
    "        loss_history.append(loss)\n",
    "        \n",
    "        #backward pass\n",
    "        db = dy_pred.sum(axis =0)*1\n",
    "        dy_pred = 1./batch_size * 2.0 * (y_pred - y)\n",
    "        dw = x.T @ dy_pred\n",
    "        w = w - dw*learning_rate\n",
    "        b = b - db*learning_rate\n",
    "\n",
    "    if e % 5 ==0:\n",
    "        print('Iteration %d /%d: loss %f' % (e, epochs, loss))\n",
    "    if e %10 ==0:\n",
    "        learning_rate *= lr_decay\n"
   ]
  },
  {
   "cell_type": "code",
   "execution_count": null,
   "metadata": {},
   "outputs": [],
   "source": [
    "y_train_pred = x_train.dot(w) + b\n"
   ]
  }
 ],
 "metadata": {
  "interpreter": {
   "hash": "52634da84371cba311ea128a5ea7cdc41ff074b781779e754b270ff9f8153cee"
  },
  "kernelspec": {
   "display_name": "Python 3.10.2 64-bit",
   "language": "python",
   "name": "python3"
  },
  "language_info": {
   "codemirror_mode": {
    "name": "ipython",
    "version": 3
   },
   "file_extension": ".py",
   "mimetype": "text/x-python",
   "name": "python",
   "nbconvert_exporter": "python",
   "pygments_lexer": "ipython3",
   "version": "3.10.2"
  },
  "orig_nbformat": 4
 },
 "nbformat": 4,
 "nbformat_minor": 2
}
